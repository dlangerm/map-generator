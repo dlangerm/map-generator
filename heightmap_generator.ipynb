{
 "cells": [
  {
   "cell_type": "code",
   "execution_count": 1,
   "metadata": {},
   "outputs": [],
   "source": [
    "import matplotlib.pyplot as plt"
   ]
  },
  {
   "cell_type": "code",
   "execution_count": 2,
   "metadata": {},
   "outputs": [],
   "source": [
    "%reload_ext autoreload\n",
    "%autoreload 2"
   ]
  },
  {
   "cell_type": "code",
   "execution_count": 3,
   "metadata": {},
   "outputs": [],
   "source": [
    "%matplotlib inline"
   ]
  },
  {
   "cell_type": "code",
   "execution_count": 20,
   "metadata": {},
   "outputs": [],
   "source": [
    "from vertex import BiomeCollection\n",
    "from nosie_functions import NOISE_FUNCTIONS, range_field\n",
    "import numpy as np\n",
    "\n",
    "collection = BiomeCollection.load()\n",
    "base_field = range_field(collection.world_params)\n",
    "\n"
   ]
  },
  {
   "cell_type": "code",
   "execution_count": 17,
   "metadata": {},
   "outputs": [
    {
     "name": "stderr",
     "output_type": "stream",
     "text": [
      "100%|██████████| 1/1 [00:10<00:00, 10.52s/it]\n"
     ]
    }
   ],
   "source": [
    "from tqdm import tqdm\n",
    "\n",
    "vector_fields = {}\n",
    "\n",
    "for field in tqdm(collection.vector_fields):\n",
    "    func = NOISE_FUNCTIONS[field.noise_type]\n",
    "    vector_eval = np.vectorize(func(**field.noise_params))\n",
    "    noise_map = vector_eval(base_field.copy())\n",
    "\n",
    "    # normalize\n",
    "    nm_min = noise_map.min()\n",
    "    nm_range = noise_map.max() - nm_min\n",
    "    noise_map -= noise_map.min()\n",
    "    noise_map /= nm_range\n",
    "\n",
    "    # map\n",
    "    noise_map *= (field.norm_max - field.norm_min)\n",
    "    noise_map += field.norm_min\n",
    "\n",
    "    vector_fields[field.name] = noise_map"
   ]
  },
  {
   "cell_type": "code",
   "execution_count": 27,
   "metadata": {},
   "outputs": [
    {
     "data": {
      "text/plain": [
       "1000.0"
      ]
     },
     "execution_count": 27,
     "metadata": {},
     "output_type": "execute_result"
    }
   ],
   "source": [
    "vector_fields[field.name].max()"
   ]
  },
  {
   "cell_type": "code",
   "execution_count": 41,
   "metadata": {},
   "outputs": [
    {
     "name": "stdout",
     "output_type": "stream",
     "text": [
      "0.0 1000.0\n",
      "33.0\n",
      "33.0\n",
      "33.0\n"
     ]
    }
   ],
   "source": [
    "import numpy as np\n",
    "from nosie_functions import NOISE_FUNCTIONS, range_field\n",
    "from vertex import BiomeCollection\n",
    "from collections import defaultdict\n",
    "\n",
    "resultant_fields = defaultdict(list)\n",
    "\n",
    "collection = BiomeCollection.load()\n",
    "\n",
    "for rule in collection.rules:\n",
    "    eval_field = vector_fields[rule.vector_field]\n",
    "    print(eval_field.min(), eval_field.max())\n",
    "    resultant_fields[rule.property_name].append({\n",
    "        \"field\": rule.evaluate(eval_field),\n",
    "        \"weight\": rule.weight,\n",
    "    })\n",
    "    print(resultant_fields[rule.property_name][-1]['field'].min())\n",
    "    print(resultant_fields[rule.property_name][-1]['field'].max())\n",
    "    print(resultant_fields[rule.property_name][-1]['field'].mean())\n"
   ]
  },
  {
   "cell_type": "code",
   "execution_count": 30,
   "metadata": {},
   "outputs": [
    {
     "data": {
      "text/plain": [
       "99.0"
      ]
     },
     "execution_count": 30,
     "metadata": {},
     "output_type": "execute_result"
    }
   ],
   "source": [
    "resultant_fields['temperature_f'][0]['field'].min()"
   ]
  },
  {
   "cell_type": "code",
   "execution_count": 10,
   "metadata": {},
   "outputs": [],
   "source": [
    "# fig = plt.figure(figsize=(40, 40), dpi=20, facecolor='w', edgecolor='k')\n",
    "# plt.imshow(pic, cmap='gray')\n",
    "# plt.show()"
   ]
  },
  {
   "cell_type": "code",
   "execution_count": null,
   "metadata": {},
   "outputs": [],
   "source": []
  }
 ],
 "metadata": {
  "kernelspec": {
   "display_name": "Python 3.10.4 64-bit",
   "language": "python",
   "name": "python3"
  },
  "language_info": {
   "codemirror_mode": {
    "name": "ipython",
    "version": 3
   },
   "file_extension": ".py",
   "mimetype": "text/x-python",
   "name": "python",
   "nbconvert_exporter": "python",
   "pygments_lexer": "ipython3",
   "version": "3.10.4"
  },
  "orig_nbformat": 4,
  "vscode": {
   "interpreter": {
    "hash": "949777d72b0d2535278d3dc13498b2535136f6dfe0678499012e853ee9abcab1"
   }
  }
 },
 "nbformat": 4,
 "nbformat_minor": 2
}
